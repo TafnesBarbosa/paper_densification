{
 "cells": [
  {
   "cell_type": "markdown",
   "id": "f44bae11-8994-4e81-bb09-da7976d65700",
   "metadata": {},
   "source": [
    "# Read data from densification test"
   ]
  },
  {
   "cell_type": "markdown",
   "id": "e5f99b78-2197-4dcf-8eb2-a758bc1e7607",
   "metadata": {},
   "source": [
    "## Imports"
   ]
  },
  {
   "cell_type": "code",
   "execution_count": 2,
   "id": "74426a9d-c364-407e-a5a7-ed7451cdb1ab",
   "metadata": {},
   "outputs": [],
   "source": [
    "import os\n",
    "import json\n",
    "import pandas as pd\n",
    "import matplotlib.pyplot as plt\n",
    "import numpy as np\n",
    "from matplotlib.ticker import FormatStrFormatter"
   ]
  },
  {
   "cell_type": "markdown",
   "id": "19b5ee9c-5bc3-43f6-bd84-b3e6bcd0c77e",
   "metadata": {},
   "source": [
    "## Códigos"
   ]
  },
  {
   "cell_type": "code",
   "execution_count": 3,
   "id": "ce93d4db-8a75-408b-b0d0-d0a66d84d854",
   "metadata": {},
   "outputs": [],
   "source": [
    "def read_info(info_path):\n",
    "    with open(info_path) as file:\n",
    "        info = json.load(file)\n",
    "    return info\n",
    "    \n",
    "def write_info(info_path, info):\n",
    "    json_object = json.dumps(info, indent = 2)\n",
    "    with open(info_path, 'w') as file:\n",
    "        file.write(json_object)\n",
    "        file.close()\n",
    "\n",
    "def get_data(folder, exp_setting, res_dict, check):\n",
    "    res_dict[exp_setting] = {}\n",
    "    info = read_info(os.path.join(folder, 'metrics.json'))\n",
    "\n",
    "    res_dict[exp_setting]['Tempo'] = round(info['tempo_train'], 5)\n",
    "    keys_in = ['num_gaussians', 'PSNR', 'SSIM', 'LPIPS', 'FPS']\n",
    "    keys_out = ['Number Gaussians', 'PSNR', 'SSIM', 'LPIPS', 'FPS']\n",
    "    for key_in, key_out in zip(keys_in, keys_out):\n",
    "        res_dict[exp_setting][key_out] = round(info[str(check)][key_in], 5)\n",
    "    return res_dict\n",
    "\n",
    "def get_df(json_folder, es=True, title='', check='10000'):\n",
    "    res_dict = {}\n",
    "    \n",
    "    for folder in sorted(os.listdir(json_folder), key=lambda a: int(a.split()[3].removeprefix('refine-every_')), reverse=False):\n",
    "        if folder.split()[1].endswith(str(es)):\n",
    "            res_dict = get_data(os.path.join(json_folder, folder), folder, res_dict, check)\n",
    "\n",
    "    df = pd.DataFrame(res_dict).T\n",
    "    if len(res_dict.keys()) > 0:\n",
    "        plot_up(df.index.tolist(), df, \"PSNR\", \"Number Gaussians\", title)\n",
    "        plot_down(df.index.tolist(), df, \"SSIM\", \"LPIPS\", title)\n",
    "    \n",
    "    return df\n",
    "\n",
    "def plot_up(xs, df, key1, key2, title):\n",
    "    var1 = df[key1]\n",
    "    var2 = df[key2]\n",
    "\n",
    "    xs=[*map(lambda t:t.split()[2].replace('reset-alpha-every', 'rae') + ' ' + t.split()[3].replace('refine-every', 're'), xs)]\n",
    "    \n",
    "    x = np.arange(len(xs))      # numeric x locations\n",
    "    width = 0.4                     # width of the bars\n",
    "\n",
    "    fig, ax1 = plt.subplots(figsize=(10, 2))\n",
    "    \n",
    "    # First axis (left y-axis)\n",
    "    bars1 = ax1.bar(x - width/2, var1, width, color=\"tab:blue\", label=\"Variable 1\")\n",
    "    ax1.set_ylabel(key1, color=\"tab:blue\")\n",
    "    ax1.yaxis.set_major_formatter(FormatStrFormatter('%02.2f'))\n",
    "    ax1.tick_params(axis=\"y\", labelcolor=\"tab:blue\")\n",
    "    ma = max(var1)\n",
    "    mi = min(var1)\n",
    "    ax1.set_ylim(mi - abs(ma - mi) * 0.1, ma + abs(ma - mi) * 0.1)\n",
    "    \n",
    "    # Second axis (right y-axis)\n",
    "    ax2 = ax1.twinx()\n",
    "    bars2 = ax2.bar(x + width/2, var2, width, color=\"tab:orange\", label=\"Variable 2\")\n",
    "    ax2.set_ylabel(key2, color=\"tab:orange\")\n",
    "    ax2.yaxis.set_major_formatter(FormatStrFormatter('%06.1f'))\n",
    "    ax2.tick_params(axis=\"y\", labelcolor=\"tab:orange\")\n",
    "    ma = max(var2)\n",
    "    mi = min(var2)\n",
    "    ax2.set_ylim(mi - abs(ma - mi) * 0.1, ma + abs(ma - mi) * 0.1)\n",
    "    \n",
    "    # X-axis settings\n",
    "    # ax1.set_xticks(x)\n",
    "    # ax1.set_xticklabels(xs, rotation=90)\n",
    "    # ax1.set_xlabel(\"Categories\")\n",
    "    ax1.set_xticks([])\n",
    "    \n",
    "    plt.grid(True)\n",
    "    plt.title(title)\n",
    "    plt.show()\n",
    "\n",
    "def plot_down(xs, df, key1, key2, title):\n",
    "    var1 = df[key1]\n",
    "    var2 = df[key2]\n",
    "\n",
    "    xs=[*map(lambda t:t.split()[2].replace('reset-alpha-every', 'rae') + ' ' + t.split()[3].replace('refine-every', 're'), xs)]\n",
    "    \n",
    "    x = np.arange(len(xs))      # numeric x locations\n",
    "    width = 0.4                     # width of the bars\n",
    "\n",
    "    fig, ax1 = plt.subplots(figsize=(10, 2))\n",
    "    \n",
    "    # First axis (left y-axis)\n",
    "    bars1 = ax1.bar(x - width/2, var1, width, color=\"tab:green\", label=\"Variable 1\")\n",
    "    ax1.set_ylabel(key1, color=\"tab:green\")\n",
    "    ax1.yaxis.set_major_formatter(FormatStrFormatter('%.3f'))\n",
    "    ax1.tick_params(axis=\"y\", labelcolor=\"tab:green\")\n",
    "    ma = max(var1)\n",
    "    mi = min(var1)\n",
    "    ax1.set_ylim(mi - abs(ma - mi) * 0.1, ma + abs(ma - mi) * 0.1)\n",
    "    \n",
    "    # Second axis (right y-axis)\n",
    "    ax2 = ax1.twinx()\n",
    "    bars2 = ax2.bar(x + width/2, var2, width, color=\"tab:red\", label=\"Variable 2\")\n",
    "    ax2.set_ylabel(key2, color=\"tab:red\")\n",
    "    ax2.yaxis.set_major_formatter(FormatStrFormatter('%.4f'))\n",
    "    ax2.tick_params(axis=\"y\", labelcolor=\"tab:red\")\n",
    "    ma = max(var2)\n",
    "    mi = min(var2)\n",
    "    ax2.set_ylim(mi - abs(ma - mi) * 0.1, ma + abs(ma - mi) * 0.1)\n",
    "    \n",
    "    # X-axis settings\n",
    "    ax1.set_xticks(x)\n",
    "    ax1.set_xticklabels(xs, rotation=90)\n",
    "    ax1.set_xlabel(\"Testes\")\n",
    "\n",
    "    plt.grid(True)\n",
    "    # plt.title(title)\n",
    "    plt.show()"
   ]
  },
  {
   "cell_type": "markdown",
   "id": "2b2bbd78-0e59-4fdf-9b3a-aa18d88ef5d5",
   "metadata": {},
   "source": [
    "## Casa"
   ]
  },
  {
   "cell_type": "code",
   "execution_count": null,
   "id": "e8462e40-9433-479b-b246-e14b5f0c405e",
   "metadata": {},
   "outputs": [],
   "source": [
    "dataset = 'casa'\n",
    "check = '30000'"
   ]
  },
  {
   "cell_type": "markdown",
   "id": "ecd7b82d-84f0-4e23-b4c9-9184c8513e12",
   "metadata": {},
   "source": [
    "#### Splatfacto-big | Bilateral mudado and Scale ambos False"
   ]
  },
  {
   "cell_type": "code",
   "execution_count": null,
   "id": "b999f376-3f2c-4b51-922a-c6ce46da0a36",
   "metadata": {},
   "outputs": [],
   "source": [
    "json_folder = f'/home/tafnes/Documentos/teste_casa/{dataset}_jsons/splatfacto-big bilateral_False'\n",
    "\n",
    "get_df(json_folder, es=False, title='Splatfacto big', check=check)"
   ]
  },
  {
   "cell_type": "markdown",
   "id": "5998daf2-3bf3-4fde-bd6a-35a7a25960ce",
   "metadata": {},
   "source": [
    "#### Splatfacto-big | Bilateral mudado and Scale ambos True"
   ]
  },
  {
   "cell_type": "code",
   "execution_count": null,
   "id": "985e5020-c617-410b-bb0e-d42026ad648a",
   "metadata": {},
   "outputs": [],
   "source": [
    "json_folder = f'/home/tafnes/Documentos/teste_casa/{dataset}_jsons/splatfacto-big bilateral_True'\n",
    "\n",
    "get_df(json_folder, es=False, title='Splatfacto big com bilateral mudado e scale reg', check=check)"
   ]
  },
  {
   "cell_type": "markdown",
   "id": "defb0713-bc08-4c50-9d98-4f0e3b8202c9",
   "metadata": {},
   "source": [
    "#### Splatfacto-mcmc | Bilateral mudado and Scale ambos False"
   ]
  },
  {
   "cell_type": "code",
   "execution_count": null,
   "id": "844b788a-a14f-401b-88e4-7e85fa5ebbbe",
   "metadata": {},
   "outputs": [],
   "source": [
    "json_folder = f'/home/tafnes/Documentos/teste_casa/{dataset}_jsons/splatfacto-mcmc bilateral_False'\n",
    "\n",
    "get_df(json_folder, es=False, title='Splatfacto mcmc', check=check)"
   ]
  },
  {
   "cell_type": "markdown",
   "id": "aa26600c-e4c8-482b-be2d-b169195e7db5",
   "metadata": {},
   "source": [
    "## Truck"
   ]
  },
  {
   "cell_type": "code",
   "execution_count": null,
   "id": "fa74ff24-bced-44ed-8c45-b62a93499aae",
   "metadata": {},
   "outputs": [],
   "source": [
    "dataset = 'truck'\n",
    "check = '30000'"
   ]
  },
  {
   "cell_type": "markdown",
   "id": "5b3d3d17-6be2-4c4d-a318-e67087253fe4",
   "metadata": {},
   "source": [
    "#### Splatfacto-big | Bilateral mudado and Scale ambos False"
   ]
  },
  {
   "cell_type": "code",
   "execution_count": null,
   "id": "8c2201cd-1ac7-4c5a-9ddc-5e032772a743",
   "metadata": {},
   "outputs": [],
   "source": [
    "json_folder = f'/home/tafnes/Documentos/teste_casa/{dataset}_jsons/splatfacto-big bilateral_False'\n",
    "\n",
    "get_df(json_folder, es=False, title='Splatfacto big', check=check)"
   ]
  },
  {
   "cell_type": "markdown",
   "id": "e1e2a3e6-c4dd-4c06-9849-61ac41bb14a8",
   "metadata": {},
   "source": [
    "#### Splatfacto-big | Bilateral mudado and Scale ambos True"
   ]
  },
  {
   "cell_type": "code",
   "execution_count": null,
   "id": "7f9c0445-a168-4e41-af66-a461783e4bc4",
   "metadata": {},
   "outputs": [],
   "source": [
    "json_folder = f'/home/tafnes/Documentos/teste_casa/{dataset}_jsons/splatfacto-big bilateral_True'\n",
    "\n",
    "get_df(json_folder, es=False, title='Splatfacto big com bilateral mudado e scale reg', check=check)"
   ]
  },
  {
   "cell_type": "markdown",
   "id": "ff11be4b-93ba-40f5-b70b-8ecb403972b7",
   "metadata": {},
   "source": [
    "#### Splatfacto-mcmc | Bilateral mudado and Scale ambos False"
   ]
  },
  {
   "cell_type": "code",
   "execution_count": null,
   "id": "e50c3035-8ddf-4aa1-9160-a4192af54988",
   "metadata": {},
   "outputs": [],
   "source": [
    "json_folder = f'/home/tafnes/Documentos/teste_casa/{dataset}_jsons/splatfacto-mcmc bilateral_False'\n",
    "\n",
    "get_df(json_folder, es=False, title='Splatfacto mcmc', check=check)"
   ]
  },
  {
   "cell_type": "markdown",
   "id": "4dc43e9a-6cd0-4fbf-830d-b9e63c316429",
   "metadata": {},
   "source": [
    "## Train"
   ]
  },
  {
   "cell_type": "code",
   "execution_count": null,
   "id": "0c02522b-6864-42c5-9ca2-0d14ea0606ab",
   "metadata": {},
   "outputs": [],
   "source": [
    "dataset = 'train'\n",
    "check = '30000'"
   ]
  },
  {
   "cell_type": "markdown",
   "id": "b7f6849e-fa24-4275-9841-16bb87d44267",
   "metadata": {},
   "source": [
    "#### Splatfacto-big | Bilateral mudado and Scale ambos False"
   ]
  },
  {
   "cell_type": "code",
   "execution_count": null,
   "id": "78d6499d-b13c-446e-8b2c-f5cec406546b",
   "metadata": {},
   "outputs": [],
   "source": [
    "json_folder = f'/home/tafnes/Documentos/teste_casa/{dataset}_jsons/splatfacto-big bilateral_False'\n",
    "\n",
    "get_df(json_folder, es=False, title='Splatfacto big', check=check)"
   ]
  },
  {
   "cell_type": "markdown",
   "id": "70d1c37b-508f-43f0-bb74-5b05a2a301f1",
   "metadata": {},
   "source": [
    "#### Splatfacto-big | Bilateral mudado and Scale ambos True"
   ]
  },
  {
   "cell_type": "code",
   "execution_count": null,
   "id": "25fa34b7-9a72-44d7-94f6-e40bed4db6e1",
   "metadata": {},
   "outputs": [],
   "source": [
    "json_folder = f'/home/tafnes/Documentos/teste_casa/{dataset}_jsons/splatfacto-big bilateral_True'\n",
    "\n",
    "get_df(json_folder, es=False, title='Splatfacto big com bilateral mudado e scale reg', check=check)"
   ]
  },
  {
   "cell_type": "markdown",
   "id": "ef065c40-03c1-40b8-a558-12c64720b054",
   "metadata": {},
   "source": [
    "#### Splatfacto-mcmc | Bilateral mudado and Scale ambos False"
   ]
  },
  {
   "cell_type": "code",
   "execution_count": null,
   "id": "07a6d212-7b20-481e-94ae-a0368866ed9e",
   "metadata": {},
   "outputs": [],
   "source": [
    "json_folder = f'/home/tafnes/Documentos/teste_casa/{dataset}_jsons/splatfacto-mcmc bilateral_False'\n",
    "\n",
    "get_df(json_folder, es=False, title='Splatfacto mcmc', check=check)"
   ]
  }
 ],
 "metadata": {
  "kernelspec": {
   "display_name": "Python 3 (ipykernel)",
   "language": "python",
   "name": "python3"
  },
  "language_info": {
   "codemirror_mode": {
    "name": "ipython",
    "version": 3
   },
   "file_extension": ".py",
   "mimetype": "text/x-python",
   "name": "python",
   "nbconvert_exporter": "python",
   "pygments_lexer": "ipython3",
   "version": "3.10.12"
  }
 },
 "nbformat": 4,
 "nbformat_minor": 5
}
