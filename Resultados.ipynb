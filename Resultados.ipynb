{
 "cells": [
  {
   "cell_type": "markdown",
   "id": "f44bae11-8994-4e81-bb09-da7976d65700",
   "metadata": {},
   "source": [
    "# Read data from densification test"
   ]
  },
  {
   "cell_type": "markdown",
   "id": "e5f99b78-2197-4dcf-8eb2-a758bc1e7607",
   "metadata": {},
   "source": [
    "## Imports"
   ]
  },
  {
   "cell_type": "code",
   "execution_count": 2,
   "id": "74426a9d-c364-407e-a5a7-ed7451cdb1ab",
   "metadata": {},
   "outputs": [],
   "source": [
    "import os\n",
    "import json\n",
    "import pandas as pd\n",
    "import matplotlib.pyplot as plt\n",
    "import numpy as np\n",
    "from matplotlib.ticker import FormatStrFormatter"
   ]
  },
  {
   "cell_type": "markdown",
   "id": "19b5ee9c-5bc3-43f6-bd84-b3e6bcd0c77e",
   "metadata": {},
   "source": [
    "## Códigos"
   ]
  },
  {
   "cell_type": "code",
   "execution_count": 3,
   "id": "ce93d4db-8a75-408b-b0d0-d0a66d84d854",
   "metadata": {},
   "outputs": [],
   "source": [
    "def read_info(info_path):\n",
    "    with open(info_path) as file:\n",
    "        info = json.load(file)\n",
    "    return info\n",
    "    \n",
    "def write_info(info_path, info):\n",
    "    json_object = json.dumps(info, indent = 2)\n",
    "    with open(info_path, 'w') as file:\n",
    "        file.write(json_object)\n",
    "        file.close()\n",
    "\n",
    "def get_data(folder, exp_setting, res_dict, check):\n",
    "    res_dict[exp_setting] = {}\n",
    "    info = read_info(os.path.join(folder, 'metrics.json'))\n",
    "\n",
    "    res_dict[exp_setting]['Tempo'] = round(info['tempo_train'], 5)\n",
    "    keys_in = ['num_gaussians', 'PSNR', 'SSIM', 'LPIPS', 'FPS']\n",
    "    keys_out = ['Number Gaussians', 'PSNR', 'SSIM', 'LPIPS', 'FPS']\n",
    "    for key_in, key_out in zip(keys_in, keys_out):\n",
    "        res_dict[exp_setting][key_out] = round(info[str(check)][key_in], 5)\n",
    "    return res_dict\n",
    "\n",
    "def get_df(json_folder, es=True, title='', check='10000'):\n",
    "    res_dict = {}\n",
    "    \n",
    "    for folder in sorted(os.listdir(json_folder), key=lambda a: int(a.split()[3].removeprefix('refine-every_')), reverse=False):\n",
    "        if folder.split()[1].endswith(str(es)):\n",
    "            res_dict = get_data(os.path.join(json_folder, folder), folder, res_dict, check)\n",
    "\n",
    "    df = pd.DataFrame(res_dict).T\n",
    "    if len(res_dict.keys()) > 0:\n",
    "        plot_up(df.index.tolist(), df, \"PSNR\", \"Number Gaussians\", title)\n",
    "        plot_down(df.index.tolist(), df, \"SSIM\", \"LPIPS\", title)\n",
    "    \n",
    "    return df\n",
    "\n",
    "def plot_up(xs, df, key1, key2, title):\n",
    "    var1 = df[key1]\n",
    "    var2 = df[key2]\n",
    "\n",
    "    xs=[*map(lambda t:t.split()[2].replace('reset-alpha-every', 'rae') + ' ' + t.split()[3].replace('refine-every', 're'), xs)]\n",
    "    \n",
    "    x = np.arange(len(xs))      # numeric x locations\n",
    "    width = 0.4                     # width of the bars\n",
    "\n",
    "    fig, ax1 = plt.subplots(figsize=(10, 2))\n",
    "    \n",
    "    # First axis (left y-axis)\n",
    "    bars1 = ax1.bar(x - width/2, var1, width, color=\"tab:blue\", label=\"Variable 1\")\n",
    "    ax1.set_ylabel(key1, color=\"tab:blue\")\n",
    "    ax1.yaxis.set_major_formatter(FormatStrFormatter('%02.2f'))\n",
    "    ax1.tick_params(axis=\"y\", labelcolor=\"tab:blue\")\n",
    "    ma = max(var1)\n",
    "    mi = min(var1)\n",
    "    ax1.set_ylim(mi - abs(ma - mi) * 0.1, ma + abs(ma - mi) * 0.1)\n",
    "    \n",
    "    # Second axis (right y-axis)\n",
    "    ax2 = ax1.twinx()\n",
    "    bars2 = ax2.bar(x + width/2, var2, width, color=\"tab:orange\", label=\"Variable 2\")\n",
    "    ax2.set_ylabel(key2, color=\"tab:orange\")\n",
    "    ax2.yaxis.set_major_formatter(FormatStrFormatter('%06.1f'))\n",
    "    ax2.tick_params(axis=\"y\", labelcolor=\"tab:orange\")\n",
    "    ma = max(var2)\n",
    "    mi = min(var2)\n",
    "    ax2.set_ylim(mi - abs(ma - mi) * 0.1, ma + abs(ma - mi) * 0.1)\n",
    "    \n",
    "    # X-axis settings\n",
    "    # ax1.set_xticks(x)\n",
    "    # ax1.set_xticklabels(xs, rotation=90)\n",
    "    # ax1.set_xlabel(\"Categories\")\n",
    "    ax1.set_xticks([])\n",
    "    \n",
    "    plt.grid(True)\n",
    "    plt.title(title)\n",
    "    plt.show()\n",
    "\n",
    "def plot_down(xs, df, key1, key2, title):\n",
    "    var1 = df[key1]\n",
    "    var2 = df[key2]\n",
    "\n",
    "    xs=[*map(lambda t:t.split()[2].replace('reset-alpha-every', 'rae') + ' ' + t.split()[3].replace('refine-every', 're'), xs)]\n",
    "    \n",
    "    x = np.arange(len(xs))      # numeric x locations\n",
    "    width = 0.4                     # width of the bars\n",
    "\n",
    "    fig, ax1 = plt.subplots(figsize=(10, 2))\n",
    "    \n",
    "    # First axis (left y-axis)\n",
    "    bars1 = ax1.bar(x - width/2, var1, width, color=\"tab:green\", label=\"Variable 1\")\n",
    "    ax1.set_ylabel(key1, color=\"tab:green\")\n",
    "    ax1.yaxis.set_major_formatter(FormatStrFormatter('%.3f'))\n",
    "    ax1.tick_params(axis=\"y\", labelcolor=\"tab:green\")\n",
    "    ma = max(var1)\n",
    "    mi = min(var1)\n",
    "    ax1.set_ylim(mi - abs(ma - mi) * 0.1, ma + abs(ma - mi) * 0.1)\n",
    "    \n",
    "    # Second axis (right y-axis)\n",
    "    ax2 = ax1.twinx()\n",
    "    bars2 = ax2.bar(x + width/2, var2, width, color=\"tab:red\", label=\"Variable 2\")\n",
    "    ax2.set_ylabel(key2, color=\"tab:red\")\n",
    "    ax2.yaxis.set_major_formatter(FormatStrFormatter('%.4f'))\n",
    "    ax2.tick_params(axis=\"y\", labelcolor=\"tab:red\")\n",
    "    ma = max(var2)\n",
    "    mi = min(var2)\n",
    "    ax2.set_ylim(mi - abs(ma - mi) * 0.1, ma + abs(ma - mi) * 0.1)\n",
    "    \n",
    "    # X-axis settings\n",
    "    ax1.set_xticks(x)\n",
    "    ax1.set_xticklabels(xs, rotation=90)\n",
    "    ax1.set_xlabel(\"Testes\")\n",
    "\n",
    "    plt.grid(True)\n",
    "    # plt.title(title)\n",
    "    plt.show()"
   ]
  },
  {
   "cell_type": "markdown",
   "id": "2b2bbd78-0e59-4fdf-9b3a-aa18d88ef5d5",
   "metadata": {},
   "source": [
    "## Casa"
   ]
  },
  {
   "cell_type": "code",
   "execution_count": 4,
   "id": "e8462e40-9433-479b-b246-e14b5f0c405e",
   "metadata": {},
   "outputs": [],
   "source": [
    "dataset = 'casa'\n",
    "check = '30000'"
   ]
  },
  {
   "cell_type": "markdown",
   "id": "ecd7b82d-84f0-4e23-b4c9-9184c8513e12",
   "metadata": {},
   "source": [
    "#### Splatfacto-big | Bilateral mudado and Scale ambos False"
   ]
  },
  {
   "cell_type": "code",
   "execution_count": 5,
   "id": "b999f376-3f2c-4b51-922a-c6ce46da0a36",
   "metadata": {},
   "outputs": [
    {
     "data": {
      "image/png": "[encoded data removed]",
      "text/plain": [
       "<Figure size 1000x200 with 2 Axes>"
      ]
     },
     "metadata": {},
     "output_type": "display_data"
    },
    {
     "data": {
      "image/png": "[encoded data removed]",
      "text/plain": [
       "<Figure size 1000x200 with 2 Axes>"
      ]
     },
     "metadata": {},
     "output_type": "display_data"
    },
    {
     "data": {
      "text/html": [
       "<div>\n",
       "<style scoped>\n",
       "    .dataframe tbody tr th:only-of-type {\n",
       "        vertical-align: middle;\n",
       "    }\n",
       "\n",
       "    .dataframe tbody tr th {\n",
       "        vertical-align: top;\n",
       "    }\n",
       "\n",
       "    .dataframe thead th {\n",
       "        text-align: right;\n",
       "    }\n",
       "</style>\n",
       "<table border=\"1\" class=\"dataframe\">\n",
       "  <thead>\n",
       "    <tr style=\"text-align: right;\">\n",
       "      <th></th>\n",
       "      <th>Tempo</th>\n",
       "      <th>Number Gaussians</th>\n",
       "      <th>PSNR</th>\n",
       "      <th>SSIM</th>\n",
       "      <th>LPIPS</th>\n",
       "      <th>FPS</th>\n",
       "    </tr>\n",
       "  </thead>\n",
       "  <tbody>\n",
       "    <tr>\n",
       "      <th>num-iterations_30k enhanced-splatfacto_False reset-alpha-every_60 refine-every_50</th>\n",
       "      <td>13535.18809</td>\n",
       "      <td>1561885.0</td>\n",
       "      <td>27.60345</td>\n",
       "      <td>0.95471</td>\n",
       "      <td>0.11162</td>\n",
       "      <td>14.86091</td>\n",
       "    </tr>\n",
       "    <tr>\n",
       "      <th>num-iterations_30k enhanced-splatfacto_False reset-alpha-every_30 refine-every_100</th>\n",
       "      <td>14225.48384</td>\n",
       "      <td>1408833.0</td>\n",
       "      <td>28.40637</td>\n",
       "      <td>0.95714</td>\n",
       "      <td>0.10413</td>\n",
       "      <td>11.75829</td>\n",
       "    </tr>\n",
       "    <tr>\n",
       "      <th>num-iterations_30k enhanced-splatfacto_False reset-alpha-every_15 refine-every_200</th>\n",
       "      <td>5179.91947</td>\n",
       "      <td>705917.0</td>\n",
       "      <td>29.18175</td>\n",
       "      <td>0.96039</td>\n",
       "      <td>0.09454</td>\n",
       "      <td>42.20251</td>\n",
       "    </tr>\n",
       "    <tr>\n",
       "      <th>num-iterations_30k enhanced-splatfacto_False reset-alpha-every_10 refine-every_300</th>\n",
       "      <td>2012.82140</td>\n",
       "      <td>493973.0</td>\n",
       "      <td>30.56273</td>\n",
       "      <td>0.96476</td>\n",
       "      <td>0.08609</td>\n",
       "      <td>46.38914</td>\n",
       "    </tr>\n",
       "    <tr>\n",
       "      <th>num-iterations_30k enhanced-splatfacto_False reset-alpha-every_7 refine-every_400</th>\n",
       "      <td>1559.91208</td>\n",
       "      <td>302711.0</td>\n",
       "      <td>29.57794</td>\n",
       "      <td>0.95866</td>\n",
       "      <td>0.10608</td>\n",
       "      <td>49.74472</td>\n",
       "    </tr>\n",
       "    <tr>\n",
       "      <th>num-iterations_30k enhanced-splatfacto_False reset-alpha-every_6 refine-every_500</th>\n",
       "      <td>1406.10376</td>\n",
       "      <td>245043.0</td>\n",
       "      <td>30.54952</td>\n",
       "      <td>0.96504</td>\n",
       "      <td>0.08710</td>\n",
       "      <td>52.76899</td>\n",
       "    </tr>\n",
       "    <tr>\n",
       "      <th>num-iterations_30k enhanced-splatfacto_False reset-alpha-every_5 refine-every_600</th>\n",
       "      <td>1312.98997</td>\n",
       "      <td>212813.0</td>\n",
       "      <td>30.55778</td>\n",
       "      <td>0.96460</td>\n",
       "      <td>0.08863</td>\n",
       "      <td>52.72865</td>\n",
       "    </tr>\n",
       "    <tr>\n",
       "      <th>num-iterations_30k enhanced-splatfacto_False reset-alpha-every_4 refine-every_700</th>\n",
       "      <td>1267.21638</td>\n",
       "      <td>178584.0</td>\n",
       "      <td>30.38472</td>\n",
       "      <td>0.96343</td>\n",
       "      <td>0.09314</td>\n",
       "      <td>52.72724</td>\n",
       "    </tr>\n",
       "    <tr>\n",
       "      <th>num-iterations_30k enhanced-splatfacto_False reset-alpha-every_3 refine-every_800</th>\n",
       "      <td>1168.77113</td>\n",
       "      <td>138381.0</td>\n",
       "      <td>29.98457</td>\n",
       "      <td>0.96238</td>\n",
       "      <td>0.10242</td>\n",
       "      <td>56.23674</td>\n",
       "    </tr>\n",
       "    <tr>\n",
       "      <th>num-iterations_30k enhanced-splatfacto_False reset-alpha-every_3 refine-every_900</th>\n",
       "      <td>1122.12967</td>\n",
       "      <td>133514.0</td>\n",
       "      <td>30.87810</td>\n",
       "      <td>0.96251</td>\n",
       "      <td>0.10323</td>\n",
       "      <td>56.81459</td>\n",
       "    </tr>\n",
       "  </tbody>\n",
       "</table>\n",
       "</div>"
      ],
      "text/plain": [
       "                                                          Tempo  \\\n",
       "num-iterations_30k enhanced-splatfacto_False re...  13535.18809   \n",
       "num-iterations_30k enhanced-splatfacto_False re...  14225.48384   \n",
       "num-iterations_30k enhanced-splatfacto_False re...   5179.91947   \n",
       "num-iterations_30k enhanced-splatfacto_False re...   2012.82140   \n",
       "num-iterations_30k enhanced-splatfacto_False re...   1559.91208   \n",
       "num-iterations_30k enhanced-splatfacto_False re...   1406.10376   \n",
       "num-iterations_30k enhanced-splatfacto_False re...   1312.98997   \n",
       "num-iterations_30k enhanced-splatfacto_False re...   1267.21638   \n",
       "num-iterations_30k enhanced-splatfacto_False re...   1168.77113   \n",
       "num-iterations_30k enhanced-splatfacto_False re...   1122.12967   \n",
       "\n",
       "                                                    Number Gaussians  \\\n",
       "num-iterations_30k enhanced-splatfacto_False re...         1561885.0   \n",
       "num-iterations_30k enhanced-splatfacto_False re...         1408833.0   \n",
       "num-iterations_30k enhanced-splatfacto_False re...          705917.0   \n",
       "num-iterations_30k enhanced-splatfacto_False re...          493973.0   \n",
       "num-iterations_30k enhanced-splatfacto_False re...          302711.0   \n",
       "num-iterations_30k enhanced-splatfacto_False re...          245043.0   \n",
       "num-iterations_30k enhanced-splatfacto_False re...          212813.0   \n",
       "num-iterations_30k enhanced-splatfacto_False re...          178584.0   \n",
       "num-iterations_30k enhanced-splatfacto_False re...          138381.0   \n",
       "num-iterations_30k enhanced-splatfacto_False re...          133514.0   \n",
       "\n",
       "                                                        PSNR     SSIM  \\\n",
       "num-iterations_30k enhanced-splatfacto_False re...  27.60345  0.95471   \n",
       "num-iterations_30k enhanced-splatfacto_False re...  28.40637  0.95714   \n",
       "num-iterations_30k enhanced-splatfacto_False re...  29.18175  0.96039   \n",
       "num-iterations_30k enhanced-splatfacto_False re...  30.56273  0.96476   \n",
       "num-iterations_30k enhanced-splatfacto_False re...  29.57794  0.95866   \n",
       "num-iterations_30k enhanced-splatfacto_False re...  30.54952  0.96504   \n",
       "num-iterations_30k enhanced-splatfacto_False re...  30.55778  0.96460   \n",
       "num-iterations_30k enhanced-splatfacto_False re...  30.38472  0.96343   \n",
       "num-iterations_30k enhanced-splatfacto_False re...  29.98457  0.96238   \n",
       "num-iterations_30k enhanced-splatfacto_False re...  30.87810  0.96251   \n",
       "\n",
       "                                                      LPIPS       FPS  \n",
       "num-iterations_30k enhanced-splatfacto_False re...  0.11162  14.86091  \n",
       "num-iterations_30k enhanced-splatfacto_False re...  0.10413  11.75829  \n",
       "num-iterations_30k enhanced-splatfacto_False re...  0.09454  42.20251  \n",
       "num-iterations_30k enhanced-splatfacto_False re...  0.08609  46.38914  \n",
       "num-iterations_30k enhanced-splatfacto_False re...  0.10608  49.74472  \n",
       "num-iterations_30k enhanced-splatfacto_False re...  0.08710  52.76899  \n",
       "num-iterations_30k enhanced-splatfacto_False re...  0.08863  52.72865  \n",
       "num-iterations_30k enhanced-splatfacto_False re...  0.09314  52.72724  \n",
       "num-iterations_30k enhanced-splatfacto_False re...  0.10242  56.23674  \n",
       "num-iterations_30k enhanced-splatfacto_False re...  0.10323  56.81459  "
      ]
     },
     "execution_count": 5,
     "metadata": {},
     "output_type": "execute_result"
    }
   ],
   "source": [
    "json_folder = f'/home/tafnes/Documentos/teste_densification/{dataset}_jsons/splatfacto-big bilateral_False'\n",
    "\n",
    "get_df(json_folder, es=False, title='Splatfacto big', check=check)"
   ]
  },
  {
   "cell_type": "markdown",
   "id": "5998daf2-3bf3-4fde-bd6a-35a7a25960ce",
   "metadata": {},
   "source": [
    "#### Splatfacto-big | Bilateral mudado and Scale ambos True"
   ]
  },
  {
   "cell_type": "code",
   "execution_count": 8,
   "id": "985e5020-c617-410b-bb0e-d42026ad648a",
   "metadata": {},
   "outputs": [
    {
     "name": "stderr",
     "output_type": "stream",
     "text": [
      "/tmp/ipykernel_71898/3769765417.py:55: UserWarning: Attempting to set identical low and high ylims makes transformation singular; automatically expanding.\n",
      "  ax1.set_ylim(mi - abs(ma - mi) * 0.1, ma + abs(ma - mi) * 0.1)\n",
      "/tmp/ipykernel_71898/3769765417.py:65: UserWarning: Attempting to set identical low and high ylims makes transformation singular; automatically expanding.\n",
      "  ax2.set_ylim(mi - abs(ma - mi) * 0.1, ma + abs(ma - mi) * 0.1)\n"
     ]
    },
    {
     "data": {
      "image/png": "[encoded data removed]",
      "text/plain": [
       "<Figure size 1000x200 with 2 Axes>"
      ]
     },
     "metadata": {},
     "output_type": "display_data"
    },
    {
     "name": "stderr",
     "output_type": "stream",
     "text": [
      "/tmp/ipykernel_71898/3769765417.py:95: UserWarning: Attempting to set identical low and high ylims makes transformation singular; automatically expanding.\n",
      "  ax1.set_ylim(mi - abs(ma - mi) * 0.1, ma + abs(ma - mi) * 0.1)\n",
      "/tmp/ipykernel_71898/3769765417.py:105: UserWarning: Attempting to set identical low and high ylims makes transformation singular; automatically expanding.\n",
      "  ax2.set_ylim(mi - abs(ma - mi) * 0.1, ma + abs(ma - mi) * 0.1)\n"
     ]
    },
    {
     "data": {
      "image/png": "[encoded data removed]",
      "text/plain": [
       "<Figure size 1000x200 with 2 Axes>"
      ]
     },
     "metadata": {},
     "output_type": "display_data"
    },
    {
     "data": {
      "text/html": [
       "<div>\n",
       "<style scoped>\n",
       "    .dataframe tbody tr th:only-of-type {\n",
       "        vertical-align: middle;\n",
       "    }\n",
       "\n",
       "    .dataframe tbody tr th {\n",
       "        vertical-align: top;\n",
       "    }\n",
       "\n",
       "    .dataframe thead th {\n",
       "        text-align: right;\n",
       "    }\n",
       "</style>\n",
       "<table border=\"1\" class=\"dataframe\">\n",
       "  <thead>\n",
       "    <tr style=\"text-align: right;\">\n",
       "      <th></th>\n",
       "      <th>Tempo</th>\n",
       "      <th>Number Gaussians</th>\n",
       "      <th>PSNR</th>\n",
       "      <th>SSIM</th>\n",
       "      <th>LPIPS</th>\n",
       "      <th>FPS</th>\n",
       "    </tr>\n",
       "  </thead>\n",
       "  <tbody>\n",
       "    <tr>\n",
       "      <th>num-iterations_30k enhanced-splatfacto_True reset-alpha-every_60 refine-every_50</th>\n",
       "      <td>4373.73947</td>\n",
       "      <td>1491792.0</td>\n",
       "      <td>27.72556</td>\n",
       "      <td>0.96193</td>\n",
       "      <td>0.09514</td>\n",
       "      <td>35.32461</td>\n",
       "    </tr>\n",
       "  </tbody>\n",
       "</table>\n",
       "</div>"
      ],
      "text/plain": [
       "                                                         Tempo  \\\n",
       "num-iterations_30k enhanced-splatfacto_True res...  4373.73947   \n",
       "\n",
       "                                                    Number Gaussians  \\\n",
       "num-iterations_30k enhanced-splatfacto_True res...         1491792.0   \n",
       "\n",
       "                                                        PSNR     SSIM  \\\n",
       "num-iterations_30k enhanced-splatfacto_True res...  27.72556  0.96193   \n",
       "\n",
       "                                                      LPIPS       FPS  \n",
       "num-iterations_30k enhanced-splatfacto_True res...  0.09514  35.32461  "
      ]
     },
     "execution_count": 8,
     "metadata": {},
     "output_type": "execute_result"
    }
   ],
   "source": [
    "json_folder = f'/home/tafnes/Documentos/teste_densification/{dataset}_jsons/splatfacto-big bilateral_True'\n",
    "\n",
    "get_df(json_folder, es=True, title='Splatfacto big com bilateral mudado e scale reg', check=check)"
   ]
  },
  {
   "cell_type": "markdown",
   "id": "defb0713-bc08-4c50-9d98-4f0e3b8202c9",
   "metadata": {},
   "source": [
    "#### Splatfacto-mcmc | Bilateral mudado and Scale ambos False"
   ]
  },
  {
   "cell_type": "code",
   "execution_count": null,
   "id": "844b788a-a14f-401b-88e4-7e85fa5ebbbe",
   "metadata": {},
   "outputs": [],
   "source": [
    "json_folder = f'/home/tafnes/Documentos/teste_densification/{dataset}_jsons/splatfacto-mcmc bilateral_False'\n",
    "\n",
    "get_df(json_folder, es=False, title='Splatfacto mcmc', check=check)"
   ]
  },
  {
   "cell_type": "markdown",
   "id": "aa26600c-e4c8-482b-be2d-b169195e7db5",
   "metadata": {},
   "source": [
    "## Truck"
   ]
  },
  {
   "cell_type": "code",
   "execution_count": null,
   "id": "fa74ff24-bced-44ed-8c45-b62a93499aae",
   "metadata": {},
   "outputs": [],
   "source": [
    "dataset = 'truck'\n",
    "check = '30000'"
   ]
  },
  {
   "cell_type": "markdown",
   "id": "5b3d3d17-6be2-4c4d-a318-e67087253fe4",
   "metadata": {},
   "source": [
    "#### Splatfacto-big | Bilateral mudado and Scale ambos False"
   ]
  },
  {
   "cell_type": "code",
   "execution_count": null,
   "id": "8c2201cd-1ac7-4c5a-9ddc-5e032772a743",
   "metadata": {},
   "outputs": [],
   "source": [
    "json_folder = f'/home/tafnes/Documentos/teste_densification/{dataset}_jsons/splatfacto-big bilateral_False'\n",
    "\n",
    "get_df(json_folder, es=False, title='Splatfacto big', check=check)"
   ]
  },
  {
   "cell_type": "markdown",
   "id": "e1e2a3e6-c4dd-4c06-9849-61ac41bb14a8",
   "metadata": {},
   "source": [
    "#### Splatfacto-big | Bilateral mudado and Scale ambos True"
   ]
  },
  {
   "cell_type": "code",
   "execution_count": null,
   "id": "7f9c0445-a168-4e41-af66-a461783e4bc4",
   "metadata": {},
   "outputs": [],
   "source": [
    "json_folder = f'/home/tafnes/Documentos/teste_densification/{dataset}_jsons/splatfacto-big bilateral_True'\n",
    "\n",
    "get_df(json_folder, es=True, title='Splatfacto big com bilateral mudado e scale reg', check=check)"
   ]
  },
  {
   "cell_type": "markdown",
   "id": "ff11be4b-93ba-40f5-b70b-8ecb403972b7",
   "metadata": {},
   "source": [
    "#### Splatfacto-mcmc | Bilateral mudado and Scale ambos False"
   ]
  },
  {
   "cell_type": "code",
   "execution_count": null,
   "id": "e50c3035-8ddf-4aa1-9160-a4192af54988",
   "metadata": {},
   "outputs": [],
   "source": [
    "json_folder = f'/home/tafnes/Documentos/teste_densification/{dataset}_jsons/splatfacto-mcmc bilateral_False'\n",
    "\n",
    "get_df(json_folder, es=False, title='Splatfacto mcmc', check=check)"
   ]
  },
  {
   "cell_type": "markdown",
   "id": "4dc43e9a-6cd0-4fbf-830d-b9e63c316429",
   "metadata": {},
   "source": [
    "## Train"
   ]
  },
  {
   "cell_type": "code",
   "execution_count": null,
   "id": "0c02522b-6864-42c5-9ca2-0d14ea0606ab",
   "metadata": {},
   "outputs": [],
   "source": [
    "dataset = 'train'\n",
    "check = '30000'"
   ]
  },
  {
   "cell_type": "markdown",
   "id": "b7f6849e-fa24-4275-9841-16bb87d44267",
   "metadata": {},
   "source": [
    "#### Splatfacto-big | Bilateral mudado and Scale ambos False"
   ]
  },
  {
   "cell_type": "code",
   "execution_count": null,
   "id": "78d6499d-b13c-446e-8b2c-f5cec406546b",
   "metadata": {},
   "outputs": [],
   "source": [
    "json_folder = f'/home/tafnes/Documentos/teste_densification/{dataset}_jsons/splatfacto-big bilateral_False'\n",
    "\n",
    "get_df(json_folder, es=False, title='Splatfacto big', check=check)"
   ]
  },
  {
   "cell_type": "markdown",
   "id": "70d1c37b-508f-43f0-bb74-5b05a2a301f1",
   "metadata": {},
   "source": [
    "#### Splatfacto-big | Bilateral mudado and Scale ambos True"
   ]
  },
  {
   "cell_type": "code",
   "execution_count": null,
   "id": "25fa34b7-9a72-44d7-94f6-e40bed4db6e1",
   "metadata": {},
   "outputs": [],
   "source": [
    "json_folder = f'/home/tafnes/Documentos/teste_densification/{dataset}_jsons/splatfacto-big bilateral_True'\n",
    "\n",
    "get_df(json_folder, es=True, title='Splatfacto big com bilateral mudado e scale reg', check=check)"
   ]
  },
  {
   "cell_type": "markdown",
   "id": "ef065c40-03c1-40b8-a558-12c64720b054",
   "metadata": {},
   "source": [
    "#### Splatfacto-mcmc | Bilateral mudado and Scale ambos False"
   ]
  },
  {
   "cell_type": "code",
   "execution_count": null,
   "id": "07a6d212-7b20-481e-94ae-a0368866ed9e",
   "metadata": {},
   "outputs": [],
   "source": [
    "json_folder = f'/home/tafnes/Documentos/teste_densification/{dataset}_jsons/splatfacto-mcmc bilateral_False'\n",
    "\n",
    "get_df(json_folder, es=False, title='Splatfacto mcmc', check=check)"
   ]
  }
 ],
 "metadata": {
  "kernelspec": {
   "display_name": "Python 3 (ipykernel)",
   "language": "python",
   "name": "python3"
  },
  "language_info": {
   "codemirror_mode": {
    "name": "ipython",
    "version": 3
   },
   "file_extension": ".py",
   "mimetype": "text/x-python",
   "name": "python",
   "nbconvert_exporter": "python",
   "pygments_lexer": "ipython3",
   "version": "3.10.12"
  }
 },
 "nbformat": 4,
 "nbformat_minor": 5
}
